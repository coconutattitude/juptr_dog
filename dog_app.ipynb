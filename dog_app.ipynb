{
  "nbformat": 4,
  "nbformat_minor": 0,
  "metadata": {
    "colab": {
      "name": "dog_app.ipynb",
      "version": "0.3.2",
      "provenance": [],
      "collapsed_sections": [],
      "toc_visible": true
    },
    "language_info": {
      "codemirror_mode": {
        "name": "ipython",
        "version": 3
      },
      "file_extension": ".py",
      "mimetype": "text/x-python",
      "name": "python",
      "nbconvert_exporter": "python",
      "pygments_lexer": "ipython3",
      "version": "3.7.3"
    },
    "kernelspec": {
      "name": "python3",
      "display_name": "Python 3"
    },
    "accelerator": "GPU"
  },
  "cells": [
    {
      "cell_type": "markdown",
      "metadata": {
        "id": "B8GMmSalij1y",
        "colab_type": "text"
      },
      "source": [
        "# Convolutional Neural Networks\n",
        "\n",
        "## Project: Write an Algorithm for a Dog Identification App \n",
        "\n",
        "---\n",
        "\n",
        "In this notebook, some template code has already been provided for you, and you will need to implement additional functionality to successfully complete this project. You will not need to modify the included code beyond what is requested. Sections that begin with **'(IMPLEMENTATION)'** in the header indicate that the following block of code will require additional functionality which you must provide. Instructions will be provided for each section, and the specifics of the implementation are marked in the code block with a 'TODO' statement. Please be sure to read the instructions carefully! \n",
        "\n",
        "> **Note**: Once you have completed all of the code implementations, you need to finalize your work by exporting the Jupyter Notebook as an HTML document. Before exporting the notebook to html, all of the code cells need to have been run so that reviewers can see the final implementation and output. You can then export the notebook by using the menu above and navigating to **File -> Download as -> HTML (.html)**. Include the finished document along with this notebook as your submission.\n",
        "\n",
        "In addition to implementing code, there will be questions that you must answer which relate to the project and your implementation. Each section where you will answer a question is preceded by a **'Question X'** header. Carefully read each question and provide thorough answers in the following text boxes that begin with **'Answer:'**. Your project submission will be evaluated based on your answers to each of the questions and the implementation you provide.\n",
        "\n",
        ">**Note:** Code and Markdown cells can be executed using the **Shift + Enter** keyboard shortcut.  Markdown cells can be edited by double-clicking the cell to enter edit mode.\n",
        "\n",
        "The rubric contains _optional_ \"Stand Out Suggestions\" for enhancing the project beyond the minimum requirements. If you decide to pursue the \"Stand Out Suggestions\", you should include the code in this Jupyter notebook.\n",
        "\n",
        "\n",
        "\n",
        "---\n",
        "### Why We're Here \n",
        "\n",
        "In this notebook, you will make the first steps towards developing an algorithm that could be used as part of a mobile or web app.  At the end of this project, your code will accept any user-supplied image as input.  If a dog is detected in the image, it will provide an estimate of the dog's breed.  If a human is detected, it will provide an estimate of the dog breed that is most resembling.  The image below displays potential sample output of your finished project (... but we expect that each student's algorithm will behave differently!). \n",
        "\n",
        "![Sample Dog Output](images/sample_dog_output.png)\n",
        "\n",
        "In this real-world setting, you will need to piece together a series of models to perform different tasks; for instance, the algorithm that detects humans in an image will be different from the CNN that infers dog breed.  There are many points of possible failure, and no perfect algorithm exists.  Your imperfect solution will nonetheless create a fun user experience!\n",
        "\n",
        "### The Road Ahead\n",
        "\n",
        "We break the notebook into separate steps.  Feel free to use the links below to navigate the notebook.\n",
        "\n",
        "* [Step 0](#step0): Import Datasets\n",
        "* [Step 1](#step1): Detect Humans\n",
        "* [Step 2](#step2): Detect Dogs\n",
        "* [Step 3](#step3): Create a CNN to Classify Dog Breeds (from Scratch)\n",
        "* [Step 4](#step4): Create a CNN to Classify Dog Breeds (using Transfer Learning)\n",
        "* [Step 5](#step5): Write your Algorithm\n",
        "* [Step 6](#step6): Test Your Algorithm\n",
        "\n",
        "---\n",
        "<a id='step0'></a>\n",
        "## Step 0: Import Datasets\n",
        "\n",
        "Make sure that you've downloaded the required human and dog datasets:\n",
        "* Download the [dog dataset](https://s3-us-west-1.amazonaws.com/udacity-aind/dog-project/dogImages.zip).  Unzip the folder and place it in this project's home directory, at the location `/dogImages`. \n",
        "\n",
        "* Download the [human dataset](https://s3-us-west-1.amazonaws.com/udacity-aind/dog-project/lfw.zip).  Unzip the folder and place it in the home directory, at location `/lfw`.  \n",
        "\n",
        "*Note: If you are using a Windows machine, you are encouraged to use [7zip](http://www.7-zip.org/) to extract the folder.*\n",
        "\n",
        "In the code cell below, we save the file paths for both the human (LFW) dataset and dog dataset in the numpy arrays `human_files` and `dog_files`."
      ]
    },
    {
      "cell_type": "code",
      "metadata": {
        "collapsed": true,
        "id": "dHEz7YWuij19",
        "colab_type": "code",
        "outputId": "9fb420c8-d8de-4746-aaa0-ae1289bceb6b",
        "colab": {
          "base_uri": "https://localhost:8080/",
          "height": 52
        }
      },
      "source": [
        "import numpy as np\n",
        "from glob import glob\n",
        "\n",
        "# load filenames for human and dog images\n",
        "human_files = np.array(glob(\"lfw/*/*\"))\n",
        "dog_files = np.array(glob(\"dogImages/*/*/*\"))\n",
        "\n",
        "# print number of images in each dataset\n",
        "print('There are %d total human images.' % len(human_files))\n",
        "print('There are %d total dog images.' % len(dog_files))"
      ],
      "execution_count": 7,
      "outputs": [
        {
          "output_type": "stream",
          "text": [
            "There are 13233 total human images.\n",
            "There are 8351 total dog images.\n"
          ],
          "name": "stdout"
        }
      ]
    },
    {
      "cell_type": "code",
      "metadata": {
        "id": "7ITvodmUij2k",
        "colab_type": "code",
        "outputId": "eaff8239-4ff4-4672-9279-ede145eb9a90",
        "colab": {}
      },
      "source": [
        "dog_files"
      ],
      "execution_count": 0,
      "outputs": [
        {
          "output_type": "execute_result",
          "data": {
            "text/plain": [
              "array(['dogImages/test/065.Entlebucher_mountain_dog/Entlebucher_mountain_dog_04559.jpg',\n",
              "       'dogImages/test/065.Entlebucher_mountain_dog/Entlebucher_mountain_dog_04595.jpg',\n",
              "       'dogImages/test/065.Entlebucher_mountain_dog/Entlebucher_mountain_dog_04561.jpg',\n",
              "       ..., 'dogImages/train/027.Bloodhound/Bloodhound_01910.jpg',\n",
              "       'dogImages/train/027.Bloodhound/Bloodhound_01875.jpg',\n",
              "       'dogImages/train/027.Bloodhound/Bloodhound_01876.jpg'],\n",
              "      dtype='<U99')"
            ]
          },
          "metadata": {
            "tags": []
          },
          "execution_count": 4
        }
      ]
    },
    {
      "cell_type": "markdown",
      "metadata": {
        "id": "VSfWmcTqij27",
        "colab_type": "text"
      },
      "source": [
        "<a id='step1'></a>\n",
        "## Step 1: Detect Humans\n",
        "\n",
        "In this section, we use OpenCV's implementation of [Haar feature-based cascade classifiers](http://docs.opencv.org/trunk/d7/d8b/tutorial_py_face_detection.html) to detect human faces in images.  \n",
        "\n",
        "OpenCV provides many pre-trained face detectors, stored as XML files on [github](https://github.com/opencv/opencv/tree/master/data/haarcascades).  We have downloaded one of these detectors and stored it in the `haarcascades` directory.  In the next code cell, we demonstrate how to use this detector to find human faces in a sample image."
      ]
    },
    {
      "cell_type": "code",
      "metadata": {
        "collapsed": true,
        "id": "yxkonrRXij3B",
        "colab_type": "code",
        "outputId": "f789ace3-e5fe-4281-f430-e2bd19e8d6d0",
        "colab": {
          "base_uri": "https://localhost:8080/",
          "height": 286
        }
      },
      "source": [
        "import cv2                \n",
        "import matplotlib.pyplot as plt                        \n",
        "%matplotlib inline                               \n",
        "\n",
        "# extract pre-trained face detector\n",
        "face_cascade = cv2.CascadeClassifier('haarcascades/haarcascade_frontalface_alt.xml')\n",
        "\n",
        "# load color (BGR) image\n",
        "img = cv2.imread(human_files[0])\n",
        "# convert BGR image to grayscale\n",
        "gray = cv2.cvtColor(img, cv2.COLOR_BGR2GRAY)\n",
        "\n",
        "# find faces in image\n",
        "faces = face_cascade.detectMultiScale(gray)\n",
        "\n",
        "# print number of faces detected in the image\n",
        "print('Number of faces detected:', len(faces))\n",
        "\n",
        "# get bounding box for each detected face\n",
        "for (x,y,w,h) in faces:\n",
        "    # add bounding box to color image\n",
        "    cv2.rectangle(img,(x,y),(x+w,y+h),(255,0,0),2)\n",
        "    \n",
        "# convert BGR image to RGB for plotting\n",
        "cv_rgb = cv2.cvtColor(img, cv2.COLOR_BGR2RGB)\n",
        "\n",
        "# display the image, along with bounding box\n",
        "plt.imshow(cv_rgb)\n",
        "plt.show()"
      ],
      "execution_count": 10,
      "outputs": [
        {
          "output_type": "stream",
          "text": [
            "Number of faces detected: 2\n"
          ],
          "name": "stdout"
        },
        {
          "output_type": "display_data",
          "data": {
            "image/png": "[encoded data removed]",
            "text/plain": [
              "<Figure size 432x288 with 1 Axes>"
            ]
          },
          "metadata": {
            "tags": []
          }
        }
      ]
    },
    {
      "cell_type": "markdown",
      "metadata": {
        "id": "eZJcxnL3ij3W",
        "colab_type": "text"
      },
      "source": [
        "Before using any of the face detectors, it is standard procedure to convert the images to grayscale.  The `detectMultiScale` function executes the classifier stored in `face_cascade` and takes the grayscale image as a parameter.  \n",
        "\n",
        "In the above code, `faces` is a numpy array of detected faces, where each row corresponds to a detected face.  Each detected face is a 1D array with four entries that specifies the bounding box of the detected face.  The first two entries in the array (extracted in the above code as `x` and `y`) specify the horizontal and vertical positions of the top left corner of the bounding box.  The last two entries in the array (extracted here as `w` and `h`) specify the width and height of the box.\n",
        "\n",
        "### Write a Human Face Detector\n",
        "\n",
        "We can use this procedure to write a function that returns `True` if a human face is detected in an image and `False` otherwise.  This function, aptly named `face_detector`, takes a string-valued file path to an image as input and appears in the code block below."
      ]
    },
    {
      "cell_type": "code",
      "metadata": {
        "id": "6nTy3M0Fij3a",
        "colab_type": "code",
        "colab": {}
      },
      "source": [
        "# returns \"True\" if face is detected in image stored at img_path\n",
        "def face_detector(img_path):\n",
        "    img = cv2.imread(img_path)\n",
        "    gray = cv2.cvtColor(img, cv2.COLOR_BGR2GRAY)\n",
        "    faces = face_cascade.detectMultiScale(gray)\n",
        "    return len(faces) > 0"
      ],
      "execution_count": 0,
      "outputs": []
    },
    {
      "cell_type": "markdown",
      "metadata": {
        "id": "RJcJqXukij3n",
        "colab_type": "text"
      },
      "source": [
        "### (IMPLEMENTATION) Assess the Human Face Detector\n",
        "\n",
        "__Question 1:__ Use the code cell below to test the performance of the `face_detector` function.  \n",
        "- What percentage of the first 100 images in `human_files` have a detected human face?  \n",
        "- What percentage of the first 100 images in `dog_files` have a detected human face? \n",
        "\n",
        "Ideally, we would like 100% of human images with a detected face and 0% of dog images with a detected face.  You will see that our algorithm falls short of this goal, but still gives acceptable performance.  We extract the file paths for the first 100 images from each of the datasets and store them in the numpy arrays `human_files_short` and `dog_files_short`."
      ]
    },
    {
      "cell_type": "markdown",
      "metadata": {
        "id": "v2Q9bGfvij3r",
        "colab_type": "text"
      },
      "source": [
        "__Answer:__ \n",
        "(You can print out your results and/or write your percentages in this cell)"
      ]
    },
    {
      "cell_type": "code",
      "metadata": {
        "collapsed": true,
        "id": "2E0OE34qij3w",
        "colab_type": "code",
        "outputId": "4cb67e70-9f7a-4098-8442-9df7b714b9d6",
        "colab": {
          "base_uri": "https://localhost:8080/",
          "height": 86
        }
      },
      "source": [
        "from tqdm import tqdm\n",
        "\n",
        "human_files_short = human_files[:100]\n",
        "dog_files_short = dog_files[:100]\n",
        "\n",
        "#-#-# Do NOT modify the code above this line. #-#-#\n",
        "\n",
        "## TODO: Test the performance of the face_detector algorithm \n",
        "## on the images in human_files_short and dog_files_short.\n",
        "\n",
        "print(\"The percentage of the first 100 images in human_files that have detected human face: \"\n",
        "      '\\n{:.0%}'.format(sum(map(face_detector, human_files_short))/100))\n",
        "\n",
        "print(\"The percentage of the first 100 images in dog_files that have detected human face: \"\\\n",
        "      '\\n{:.0%}'.format(sum(map(face_detector, dog_files_short))/100))\n"
      ],
      "execution_count": 12,
      "outputs": [
        {
          "output_type": "stream",
          "text": [
            "The percentage of the first 100 images in human_files that have detected human face: \n",
            "99%\n",
            "The percentage of the first 100 images in dog_files that have detected human face: \n",
            "11%\n"
          ],
          "name": "stdout"
        }
      ]
    },
    {
      "cell_type": "markdown",
      "metadata": {
        "id": "bIXY9C-Fij4K",
        "colab_type": "text"
      },
      "source": [
        "We suggest the face detector from OpenCV as a potential way to detect human images in your algorithm, but you are free to explore other approaches, especially approaches that make use of deep learning :).  Please use the code cell below to design and test your own face detection algorithm.  If you decide to pursue this _optional_ task, report performance on `human_files_short` and `dog_files_short`."
      ]
    },
    {
      "cell_type": "code",
      "metadata": {
        "id": "eBDsfNRDij4P",
        "colab_type": "code",
        "colab": {}
      },
      "source": [
        "### (Optional) \n",
        "### TODO: Test performance of another face detection algorithm.\n",
        "### Feel free to use as many code cells as needed."
      ],
      "execution_count": 0,
      "outputs": []
    },
    {
      "cell_type": "markdown",
      "metadata": {
        "id": "TVd1c19oij4g",
        "colab_type": "text"
      },
      "source": [
        "---\n",
        "<a id='step2'></a>\n",
        "## Step 2: Detect Dogs\n",
        "\n",
        "In this section, we use a [pre-trained model](http://pytorch.org/docs/master/torchvision/models.html) to detect dogs in images.  \n",
        "\n",
        "### Obtain Pre-trained VGG-16 Model\n",
        "\n",
        "The code cell below downloads the VGG-16 model, along with weights that have been trained on [ImageNet](http://www.image-net.org/), a very large, very popular dataset used for image classification and other vision tasks.  ImageNet contains over 10 million URLs, each linking to an image containing an object from one of [1000 categories](https://gist.github.com/yrevar/942d3a0ac09ec9e5eb3a).  "
      ]
    },
    {
      "cell_type": "code",
      "metadata": {
        "collapsed": true,
        "id": "NhhaQV9iij4k",
        "colab_type": "code",
        "outputId": "b35e5d97-35ca-4e9e-ce4d-2acb1e751b47",
        "colab": {
          "base_uri": "https://localhost:8080/",
          "height": 52
        }
      },
      "source": [
        "import torch\n",
        "import torchvision.models as models\n",
        "\n",
        "# define VGG16 model\n",
        "VGG16 = models.vgg16(pretrained=True)\n",
        "\n",
        "# check if CUDA is available\n",
        "use_cuda = torch.cuda.is_available()\n",
        "\n",
        "# move model to GPU if CUDA is available\n",
        "if use_cuda:\n",
        "    VGG16 = VGG16.cuda()"
      ],
      "execution_count": 13,
      "outputs": [
        {
          "output_type": "stream",
          "text": [
            "Downloading: \"https://download.pytorch.org/models/vgg16-397923af.pth\" to /root/.cache/torch/checkpoints/vgg16-397923af.pth\n",
            "100%|██████████| 553433881/553433881 [00:07<00:00, 71388742.95it/s]\n"
          ],
          "name": "stderr"
        }
      ]
    },
    {
      "cell_type": "markdown",
      "metadata": {
        "id": "Czz_MiK0ij41",
        "colab_type": "text"
      },
      "source": [
        "Given an image, this pre-trained VGG-16 model returns a prediction (derived from the 1000 possible categories in ImageNet) for the object that is contained in the image."
      ]
    },
    {
      "cell_type": "markdown",
      "metadata": {
        "id": "M6bmYKlhij44",
        "colab_type": "text"
      },
      "source": [
        "### (IMPLEMENTATION) Making Predictions with a Pre-trained Model\n",
        "\n",
        "In the next code cell, you will write a function that accepts a path to an image (such as `'dogImages/train/001.Affenpinscher/Affenpinscher_00001.jpg'`) as input and returns the index corresponding to the ImageNet class that is predicted by the pre-trained VGG-16 model.  The output should always be an integer between 0 and 999, inclusive.\n",
        "\n",
        "Before writing the function, make sure that you take the time to learn  how to appropriately pre-process tensors for pre-trained models in the [PyTorch documentation](http://pytorch.org/docs/stable/torchvision/models.html)."
      ]
    },
    {
      "cell_type": "code",
      "metadata": {
        "id": "uPiARVmFij47",
        "colab_type": "code",
        "colab": {}
      },
      "source": [
        "from PIL import Image\n",
        "import torchvision.transforms as transforms\n",
        "\n",
        "# Set PIL to be tolerant of image files that are truncated.\n",
        "from PIL import ImageFile\n",
        "ImageFile.LOAD_TRUNCATED_IMAGES = True\n",
        "\n",
        "def VGG16_predict(img_path):\n",
        "    '''\n",
        "    Use pre-trained VGG-16 model to obtain index corresponding to \n",
        "    predicted ImageNet class for image at specified path\n",
        "    \n",
        "    Args:\n",
        "        img_path: path to an image\n",
        "        \n",
        "    Returns:\n",
        "        Index corresponding to VGG-16 model's prediction\n",
        "    '''\n",
        "    \n",
        "    ## TODO: Complete the function.\n",
        "    ## Load and pre-process an image from the given img_path\n",
        "    ## Return the *index* of the predicted class for that image\n",
        "    #transforms.Compose()\n",
        "    \n",
        "    pil_image = Image.open(img_path)\n",
        "    \n",
        "    transformed_image = transforms.Resize(224)(pil_image)\n",
        "    transformed_image = transforms.CenterCrop(224)(transformed_image)\n",
        "    transformed_image = transforms.ToTensor()(transformed_image)\n",
        "    transformed_image = transforms.Normalize(mean=[0.485,0.456,0.406],\n",
        "                                            std = [0.229,0.224,0.225])(transformed_image)\n",
        "    transformed_image = transformed_image.cuda() if torch.cuda.is_available() else transformed_image\n",
        "    \n",
        "    output_index = int((VGG16(transformed_image.unsqueeze(0))).argmax())\n",
        "    \n",
        "    \n",
        "    \n",
        "    \n",
        "    \n",
        "    \n",
        "    return output_index # predicted class index"
      ],
      "execution_count": 0,
      "outputs": []
    },
    {
      "cell_type": "markdown",
      "metadata": {
        "id": "aSmrNKKrij5G",
        "colab_type": "text"
      },
      "source": [
        "### (IMPLEMENTATION) Write a Dog Detector\n",
        "\n",
        "While looking at the [dictionary](https://gist.github.com/yrevar/942d3a0ac09ec9e5eb3a), you will notice that the categories corresponding to dogs appear in an uninterrupted sequence and correspond to dictionary keys 151-268, inclusive, to include all categories from `'Chihuahua'` to `'Mexican hairless'`.  Thus, in order to check to see if an image is predicted to contain a dog by the pre-trained VGG-16 model, we need only check if the pre-trained model predicts an index between 151 and 268 (inclusive).\n",
        "\n",
        "Use these ideas to complete the `dog_detector` function below, which returns `True` if a dog is detected in an image (and `False` if not)."
      ]
    },
    {
      "cell_type": "code",
      "metadata": {
        "id": "QjlGvAV3ij5I",
        "colab_type": "code",
        "colab": {}
      },
      "source": [
        "### returns \"True\" if a dog is detected in the image stored at img_path\n",
        "def dog_detector(img_path):\n",
        "    ## TODO: Complete the function.\n",
        "    my_prediction = True if VGG16_predict(img_path) in range(151,269) else False\n",
        "    return my_prediction # true/false"
      ],
      "execution_count": 0,
      "outputs": []
    },
    {
      "cell_type": "markdown",
      "metadata": {
        "id": "iDuoEZWMij5U",
        "colab_type": "text"
      },
      "source": [
        "### (IMPLEMENTATION) Assess the Dog Detector\n",
        "\n",
        "__Question 2:__ Use the code cell below to test the performance of your `dog_detector` function.  \n",
        "- What percentage of the images in `human_files_short` have a detected dog?  \n",
        "- What percentage of the images in `dog_files_short` have a detected dog?"
      ]
    },
    {
      "cell_type": "markdown",
      "metadata": {
        "id": "WvyemVQAij5Y",
        "colab_type": "text"
      },
      "source": [
        "__Answer:__  Printed answer below:\n"
      ]
    },
    {
      "cell_type": "code",
      "metadata": {
        "collapsed": true,
        "id": "9IzU5taEij5c",
        "colab_type": "code",
        "outputId": "c0a59819-a3ce-4d3e-eb31-6204a29b79d6",
        "colab": {
          "base_uri": "https://localhost:8080/",
          "height": 86
        }
      },
      "source": [
        "### TODO: Test the performance of the dog_detector function\n",
        "### on the images in human_files_short and dog_files_short.\n",
        "print(\"The percentage of the images in human_files_short have a detected dog\"\n",
        "     '\\n{:.0%}'.format(sum(map(dog_detector, human_files_short))/100))\n",
        "\n",
        "print(\"The percentage of the images in dog_files_short have a detected dog\"\n",
        "     '\\n{:.0%}'.format(sum(map(dog_detector, dog_files_short))/100))\n"
      ],
      "execution_count": 16,
      "outputs": [
        {
          "output_type": "stream",
          "text": [
            "The percentage of the images in human_files_short have a detected dog\n",
            "0%\n",
            "The percentage of the images in dog_files_short have a detected dog\n",
            "100%\n"
          ],
          "name": "stdout"
        }
      ]
    },
    {
      "cell_type": "markdown",
      "metadata": {
        "id": "C_c6YHcJij5q",
        "colab_type": "text"
      },
      "source": [
        "We suggest VGG-16 as a potential network to detect dog images in your algorithm, but you are free to explore other pre-trained networks (such as [Inception-v3](http://pytorch.org/docs/master/torchvision/models.html#inception-v3), [ResNet-50](http://pytorch.org/docs/master/torchvision/models.html#id3), etc).  Please use the code cell below to test other pre-trained PyTorch models.  If you decide to pursue this _optional_ task, report performance on `human_files_short` and `dog_files_short`."
      ]
    },
    {
      "cell_type": "code",
      "metadata": {
        "id": "xKx0MvIxij5t",
        "colab_type": "code",
        "colab": {}
      },
      "source": [
        "### (Optional) \n",
        "### TODO: Report the performance of another pre-trained network.\n",
        "### Feel free to use as many code cells as needed."
      ],
      "execution_count": 0,
      "outputs": []
    },
    {
      "cell_type": "markdown",
      "metadata": {
        "id": "Mh__RKzcij5-",
        "colab_type": "text"
      },
      "source": [
        "---\n",
        "<a id='step3'></a>\n",
        "## Step 3: Create a CNN to Classify Dog Breeds (from Scratch)\n",
        "\n",
        "Now that we have functions for detecting humans and dogs in images, we need a way to predict breed from images.  In this step, you will create a CNN that classifies dog breeds.  You must create your CNN _from scratch_ (so, you can't use transfer learning _yet_!), and you must attain a test accuracy of at least 10%.  In Step 4 of this notebook, you will have the opportunity to use transfer learning to create a CNN that attains greatly improved accuracy.\n",
        "\n",
        "We mention that the task of assigning breed to dogs from images is considered exceptionally challenging.  To see why, consider that *even a human* would have trouble distinguishing between a Brittany and a Welsh Springer Spaniel.  \n",
        "\n",
        "Brittany | Welsh Springer Spaniel\n",
        "- | - \n",
        "<img src=\"images/Brittany_02625.jpg\" width=\"100\"> | <img src=\"images/Welsh_springer_spaniel_08203.jpg\" width=\"200\">\n",
        "\n",
        "It is not difficult to find other dog breed pairs with minimal inter-class variation (for instance, Curly-Coated Retrievers and American Water Spaniels).  \n",
        "\n",
        "Curly-Coated Retriever | American Water Spaniel\n",
        "- | -\n",
        "<img src=\"images/Curly-coated_retriever_03896.jpg\" width=\"200\"> | <img src=\"images/American_water_spaniel_00648.jpg\" width=\"200\">\n",
        "\n",
        "\n",
        "Likewise, recall that labradors come in yellow, chocolate, and black.  Your vision-based algorithm will have to conquer this high intra-class variation to determine how to classify all of these different shades as the same breed.  \n",
        "\n",
        "Yellow Labrador | Chocolate Labrador | Black Labrador\n",
        "- | -\n",
        "<img src=\"images/Labrador_retriever_06457.jpg\" width=\"150\"> | <img src=\"images/Labrador_retriever_06455.jpg\" width=\"240\"> | <img src=\"images/Labrador_retriever_06449.jpg\" width=\"220\">\n",
        "\n",
        "We also mention that random chance presents an exceptionally low bar: setting aside the fact that the classes are slightly imabalanced, a random guess will provide a correct answer roughly 1 in 133 times, which corresponds to an accuracy of less than 1%.  \n",
        "\n",
        "Remember that the practice is far ahead of the theory in deep learning.  Experiment with many different architectures, and trust your intuition.  And, of course, have fun!\n",
        "\n",
        "### (IMPLEMENTATION) Specify Data Loaders for the Dog Dataset\n",
        "\n",
        "Use the code cell below to write three separate [data loaders](http://pytorch.org/docs/stable/data.html#torch.utils.data.DataLoader) for the training, validation, and test datasets of dog images (located at `dogImages/train`, `dogImages/valid`, and `dogImages/test`, respectively).  You may find [this documentation on custom datasets](http://pytorch.org/docs/stable/torchvision/datasets.html) to be a useful resource.  If you are interested in augmenting your training and/or validation data, check out the wide variety of [transforms](http://pytorch.org/docs/stable/torchvision/transforms.html?highlight=transform)!"
      ]
    },
    {
      "cell_type": "code",
      "metadata": {
        "id": "esS6OOK8ij6A",
        "colab_type": "code",
        "colab": {}
      },
      "source": [
        "import os\n",
        "from torchvision import datasets\n",
        "\n",
        "### TODO: Write data loaders for training, validation, and test sets\n",
        "## Specify appropriate transforms, and batch_sizes\n",
        "import torch\n",
        "import numpy as np\n",
        "from PIL import ImageFile\n",
        "from torchvision import transforms\n",
        "\n",
        "\n",
        "\n",
        "ImageFile.LOAD_TRUNCATED_IMAGES = True\n",
        "use_cuda = torch.cuda.is_available()\n",
        "\n",
        "image_transforms = {'train' : transforms.Compose([transforms.RandomRotation(10),\n",
        "                                                 transforms.RandomHorizontalFlip(),\n",
        "                                                 transforms.RandomResizedCrop(224),\n",
        "                                                 transforms.Resize(224),\n",
        "                                                 transforms.CenterCrop(224),\n",
        "                                                 transforms.ToTensor(),\n",
        "                                                 transforms.Normalize(mean = [0.485,0.456,0.406],\n",
        "                                                                     std = [0.229,0.224,0.225])]),\n",
        "                   'valid': transforms.Compose([transforms.Resize(224),\n",
        "                                               transforms.CenterCrop(224),\n",
        "                                               transforms.ToTensor(),\n",
        "                                               transforms.Normalize(mean = [0.485,0.456,0.406],\n",
        "                                                                   std = [0.229,0.224,0.225])]),\n",
        "                    \n",
        "                    \n",
        "                    \n",
        "                   'test' : transforms.Compose([transforms.Resize(224),\n",
        "                                               transforms.CenterCrop(224),\n",
        "                                               transforms.ToTensor(),\n",
        "                                               transforms.Normalize(mean = [0.485,0.456,0.406],\n",
        "                                                                   std = [0.229,0.224,0.225])])\n",
        "                   }\n",
        "\n",
        "\n",
        "loaders_scratch = { 'train': torch.utils.data.DataLoader(datasets.ImageFolder('dogImages/train',\n",
        "                                                                             transform = image_transforms['train']),\n",
        "                                                        batch_size=25, shuffle=True),\n",
        "                   'valid': torch.utils.data.DataLoader(datasets.ImageFolder('dogImages/valid',\n",
        "                                                                            transform = image_transforms['valid']),\n",
        "                                                       batch_size=25, shuffle=True),\n",
        "                   'test': torch.utils.data.DataLoader(datasets.ImageFolder('dogImages/test',\n",
        "                                                                           transform=image_transforms['test']),\n",
        "                                                      batch_size= 25, shuffle=True)\n",
        "    \n",
        "    \n",
        "    \n",
        "}\n",
        "\n"
      ],
      "execution_count": 0,
      "outputs": []
    },
    {
      "cell_type": "markdown",
      "metadata": {
        "id": "jel4FncKij6M",
        "colab_type": "text"
      },
      "source": [
        "**Question 3:** Describe your chosen procedure for preprocessing the data. \n",
        "- How does your code resize the images (by cropping, stretching, etc)?  What size did you pick for the input tensor, and why?\n",
        "- Did you decide to augment the dataset?  If so, how (through translations, flips, rotations, etc)?  If not, why not?\n"
      ]
    },
    {
      "cell_type": "markdown",
      "metadata": {
        "id": "cJidNg_Mij6P",
        "colab_type": "text"
      },
      "source": [
        "\n",
        "\n",
        "```\n",
        "# This is formatted as code\n",
        "```\n",
        "\n",
        "**Answer**:\n",
        "\n",
        "1) I'm resizing all images to 224 by 224 pixels with transforms.Resize(224) and then I'm cropping them in the center with transforms.CenterCrop(224) to extract most valuable data from images. This size 224/224 pixels is widely used in deep learning by many researchers and is considered a tested standard. This along with 25 images per batch makes input tensor 3/25/244/244 of size, which is reasonably small for this kind of dataset. \n",
        "\n",
        "2) I decided to augment the dataset to prevent overfitting on training data. I used transforms.RandomRotation(10) which rotates images randomly, transforms.RandomHorizontalFlip(), which flips images horizontaly and transforms.RandomResizedCrop(224), which randomly crops images. "
      ]
    },
    {
      "cell_type": "markdown",
      "metadata": {
        "id": "qDT6XIyYij6R",
        "colab_type": "text"
      },
      "source": [
        "### (IMPLEMENTATION) Model Architecture\n",
        "\n",
        "Create a CNN to classify dog breed.  Use the template in the code cell below."
      ]
    },
    {
      "cell_type": "code",
      "metadata": {
        "id": "bxOetaHyij6V",
        "colab_type": "code",
        "colab": {}
      },
      "source": [
        "import torch.nn as nn\n",
        "import torch.nn.functional as F\n",
        "\n",
        "# define the CNN architecture\n",
        "class Net(nn.Module):\n",
        "    ### TODO: choose an architecture, and complete the class\n",
        "    def __init__(self):\n",
        "        super(Net, self).__init__()\n",
        "        ## Define layers of a CNN\n",
        "        self.c1 = nn.Conv2d(in_channels=3 , out_channels=32 , kernel_size=3)\n",
        "        self.c2 = nn.Conv2d(in_channels=32 , out_channels=64 , kernel_size=3)\n",
        "        self.c3 = nn.Conv2d(in_channels=64 , out_channels=128 , kernel_size=3)\n",
        "        self.fc1 = nn.Linear(in_features=6272, out_features=512)\n",
        "        self.fc2 = nn.Linear(in_features=512, out_features=256)\n",
        "        self.fc3 = nn.Linear(in_features=256, out_features=412)\n",
        "        self.fc4 = nn.Linear(in_features=412, out_features=133)\n",
        "        \n",
        "    \n",
        "    def forward(self, x):\n",
        "        ## Define forward behavior\n",
        "        x = F.relu(F.max_pool2d(self.c1(x),3))\n",
        "        x = F.relu(F.max_pool2d(self.c2(x),3))\n",
        "        x = F.relu(F.max_pool2d(self.c3(x),3))\n",
        "        x = x.view(x.size(0), -1)\n",
        "        x = F.relu(self.fc1(x))\n",
        "        x = F.relu(self.fc2(x))\n",
        "        x = F.relu(self.fc3(x))\n",
        "        x = self.fc4(x)\n",
        "        \n",
        "        \n",
        "        \n",
        "        return x\n",
        "\n",
        "#-#-# You do NOT have to modify the code below this line. #-#-#\n",
        "\n",
        "# instantiate the CNN\n",
        "model_scratch = Net()\n",
        "\n",
        "# move tensors to GPU if CUDA is available\n",
        "if use_cuda:\n",
        "    model_scratch.cuda()"
      ],
      "execution_count": 0,
      "outputs": []
    },
    {
      "cell_type": "markdown",
      "metadata": {
        "id": "-eNb6t_Wij6e",
        "colab_type": "text"
      },
      "source": [
        "__Question 4:__ Outline the steps you took to get to your final CNN architecture and your reasoning at each step.  "
      ]
    },
    {
      "cell_type": "markdown",
      "metadata": {
        "id": "Koc2XPV9ij6l",
        "colab_type": "text"
      },
      "source": [
        "__Answer:__  I use three convolutional layers, each followed by max pool layer which is then followed by ReLU layer. \n",
        "After convolutional layers I'm changing the size of input (I'm flattening it)  and I'm using four fully conected layers, from which the first three are followed by ReLU layer, without activation function at the end. This proves as sufficient to make good predictions."
      ]
    },
    {
      "cell_type": "markdown",
      "metadata": {
        "id": "7cHSyeFiij6p",
        "colab_type": "text"
      },
      "source": [
        "### (IMPLEMENTATION) Specify Loss Function and Optimizer\n",
        "\n",
        "Use the next code cell to specify a [loss function](http://pytorch.org/docs/stable/nn.html#loss-functions) and [optimizer](http://pytorch.org/docs/stable/optim.html).  Save the chosen loss function as `criterion_scratch`, and the optimizer as `optimizer_scratch` below."
      ]
    },
    {
      "cell_type": "code",
      "metadata": {
        "id": "LXe-EFozij6r",
        "colab_type": "code",
        "colab": {}
      },
      "source": [
        "import torch.optim as optim\n",
        "\n",
        "### TODO: select loss function\n",
        "criterion_scratch = nn.CrossEntropyLoss()\n",
        "\n",
        "### TODO: select optimizer\n",
        "optimizer_scratch = optim.Adam(model_scratch.parameters(), lr = 0.0005)"
      ],
      "execution_count": 0,
      "outputs": []
    },
    {
      "cell_type": "markdown",
      "metadata": {
        "id": "g8lpN3qIij61",
        "colab_type": "text"
      },
      "source": [
        "### (IMPLEMENTATION) Train and Validate the Model\n",
        "\n",
        "Train and validate your model in the code cell below.  [Save the final model parameters](http://pytorch.org/docs/master/notes/serialization.html) at filepath `'model_scratch.pt'`."
      ]
    },
    {
      "cell_type": "code",
      "metadata": {
        "id": "Ug51QYmLij67",
        "colab_type": "code",
        "outputId": "9894ecaa-ee7b-4dba-b307-8e1fada6ff4c",
        "colab": {
          "base_uri": "https://localhost:8080/",
          "height": 1000
        }
      },
      "source": [
        "# the following import is required for training to be robust to truncated images\n",
        "from PIL import ImageFile\n",
        "ImageFile.LOAD_TRUNCATED_IMAGES = True\n",
        "\n",
        "def train(n_epochs, loaders, model, optimizer, criterion, use_cuda, save_path):\n",
        "    \"\"\"returns trained model\"\"\"\n",
        "    # initialize tracker for minimum validation loss\n",
        "    valid_loss_min = np.Inf \n",
        "    \n",
        "    for epoch in range(1, n_epochs+1):\n",
        "        # initialize variables to monitor training and validation loss\n",
        "        train_loss = 0.0\n",
        "        valid_loss = 0.0\n",
        "        \n",
        "        ###################\n",
        "        # train the model #\n",
        "        ###################\n",
        "        model.train()\n",
        "        for batch_idx, (data, target) in enumerate(loaders['train']):\n",
        "            # move to GPU\n",
        "            if use_cuda:\n",
        "                data, target = data.cuda(), target.cuda()\n",
        "            ## find the loss and update the model parameters accordingly\n",
        "            ## record the average training loss, using something like\n",
        "            ## train_loss = train_loss + ((1 / (batch_idx + 1)) * (loss.data - train_loss))\n",
        "            \n",
        "            #my code below\n",
        "            output = model(data)\n",
        "            loss = criterion(output, target)\n",
        "            train_loss = train_loss + ((1 / (batch_idx +1)) * (loss.data - train_loss))\n",
        "            optimizer.zero_grad()\n",
        "            loss.backward()\n",
        "            optimizer.step()\n",
        "            \n",
        "            \n",
        "        ######################    \n",
        "        # validate the model #\n",
        "        ######################\n",
        "        model.eval()\n",
        "        total_correct = 0\n",
        "        total = 0\n",
        "        \n",
        "        for batch_idx, (data, target) in enumerate(loaders['valid']):\n",
        "            # move to GPU\n",
        "            if use_cuda:\n",
        "                data, target = data.cuda(), target.cuda()\n",
        "            ## update the average validation loss\n",
        "            #my code below\n",
        "            output = model(data)\n",
        "            loss = criterion(output, target)\n",
        "            valid_loss = valid_loss + ((1 / (batch_idx + 1 )) * (loss.data - valid_loss ))\n",
        "            max_arg_output = torch.argmax(output, dim=1)\n",
        "            total_correct += int(torch.sum(max_arg_output ==target))\n",
        "            total += data.shape[0]\n",
        "\n",
        "            \n",
        "        # print training/validation statistics \n",
        "        print('Epoch: {} \\tTraining Loss: {:.6f} \\tValidation Loss: {:.6f}'.format(\n",
        "            epoch, \n",
        "            train_loss,\n",
        "            valid_loss\n",
        "            ))\n",
        "        \n",
        "        ## TODO: save the model if validation loss has decreased\n",
        "        #my code below\n",
        "        \n",
        "        if valid_loss_min > valid_loss:\n",
        "            print(\"Saving model____\")\n",
        "            valid_loss_min = valid_loss\n",
        "            torch.save(model.state_dict(), save_path)\n",
        "            \n",
        "    # return trained model\n",
        "    return model\n",
        "\n",
        "\n",
        "# train the model\n",
        "model_scratch = train(85, loaders_scratch, model_scratch, optimizer_scratch, \n",
        "                      criterion_scratch, use_cuda, 'model_scratch.pt')\n",
        "\n",
        "# load the model that got the best validation accuracy\n",
        "model_scratch.load_state_dict(torch.load('model_scratch.pt'))"
      ],
      "execution_count": 21,
      "outputs": [
        {
          "output_type": "stream",
          "text": [
            "Epoch: 1 \tTraining Loss: 4.828553 \tValidation Loss: 4.688653\n",
            "Saving model____\n",
            "Epoch: 2 \tTraining Loss: 4.595017 \tValidation Loss: 4.443044\n",
            "Saving model____\n",
            "Epoch: 3 \tTraining Loss: 4.435476 \tValidation Loss: 4.307535\n",
            "Saving model____\n",
            "Epoch: 4 \tTraining Loss: 4.329082 \tValidation Loss: 4.171022\n",
            "Saving model____\n",
            "Epoch: 5 \tTraining Loss: 4.225599 \tValidation Loss: 4.105312\n",
            "Saving model____\n",
            "Epoch: 6 \tTraining Loss: 4.131401 \tValidation Loss: 4.000123\n",
            "Saving model____\n",
            "Epoch: 7 \tTraining Loss: 4.046708 \tValidation Loss: 3.944370\n",
            "Saving model____\n",
            "Epoch: 8 \tTraining Loss: 3.971905 \tValidation Loss: 3.866102\n",
            "Saving model____\n",
            "Epoch: 9 \tTraining Loss: 3.891781 \tValidation Loss: 3.921393\n",
            "Epoch: 10 \tTraining Loss: 3.834800 \tValidation Loss: 3.772790\n",
            "Saving model____\n",
            "Epoch: 11 \tTraining Loss: 3.766187 \tValidation Loss: 3.705552\n",
            "Saving model____\n",
            "Epoch: 12 \tTraining Loss: 3.721488 \tValidation Loss: 3.623614\n",
            "Saving model____\n",
            "Epoch: 13 \tTraining Loss: 3.657057 \tValidation Loss: 3.544252\n",
            "Saving model____\n",
            "Epoch: 14 \tTraining Loss: 3.593163 \tValidation Loss: 3.532133\n",
            "Saving model____\n",
            "Epoch: 15 \tTraining Loss: 3.510004 \tValidation Loss: 3.487086\n",
            "Saving model____\n",
            "Epoch: 16 \tTraining Loss: 3.459803 \tValidation Loss: 3.485790\n",
            "Saving model____\n",
            "Epoch: 17 \tTraining Loss: 3.447907 \tValidation Loss: 3.406992\n",
            "Saving model____\n",
            "Epoch: 18 \tTraining Loss: 3.368305 \tValidation Loss: 3.357252\n",
            "Saving model____\n",
            "Epoch: 19 \tTraining Loss: 3.332202 \tValidation Loss: 3.303589\n",
            "Saving model____\n",
            "Epoch: 20 \tTraining Loss: 3.277895 \tValidation Loss: 3.269426\n",
            "Saving model____\n",
            "Epoch: 21 \tTraining Loss: 3.231260 \tValidation Loss: 3.330791\n",
            "Epoch: 22 \tTraining Loss: 3.182352 \tValidation Loss: 3.240879\n",
            "Saving model____\n",
            "Epoch: 23 \tTraining Loss: 3.143781 \tValidation Loss: 3.222803\n",
            "Saving model____\n",
            "Epoch: 24 \tTraining Loss: 3.114311 \tValidation Loss: 3.298091\n",
            "Epoch: 25 \tTraining Loss: 3.100243 \tValidation Loss: 3.285168\n",
            "Epoch: 26 \tTraining Loss: 3.058505 \tValidation Loss: 3.156800\n",
            "Saving model____\n",
            "Epoch: 27 \tTraining Loss: 3.008603 \tValidation Loss: 3.122535\n",
            "Saving model____\n",
            "Epoch: 28 \tTraining Loss: 2.964474 \tValidation Loss: 3.104822\n",
            "Saving model____\n",
            "Epoch: 29 \tTraining Loss: 2.958163 \tValidation Loss: 3.068784\n",
            "Saving model____\n",
            "Epoch: 30 \tTraining Loss: 2.915303 \tValidation Loss: 3.160507\n",
            "Epoch: 31 \tTraining Loss: 2.879030 \tValidation Loss: 3.115481\n",
            "Epoch: 32 \tTraining Loss: 2.887567 \tValidation Loss: 3.184254\n",
            "Epoch: 33 \tTraining Loss: 2.816121 \tValidation Loss: 3.010211\n",
            "Saving model____\n",
            "Epoch: 34 \tTraining Loss: 2.746598 \tValidation Loss: 3.098721\n",
            "Epoch: 35 \tTraining Loss: 2.763420 \tValidation Loss: 3.050151\n",
            "Epoch: 36 \tTraining Loss: 2.740142 \tValidation Loss: 3.167022\n",
            "Epoch: 37 \tTraining Loss: 2.699995 \tValidation Loss: 3.008987\n",
            "Saving model____\n",
            "Epoch: 38 \tTraining Loss: 2.673133 \tValidation Loss: 3.010820\n",
            "Epoch: 39 \tTraining Loss: 2.636224 \tValidation Loss: 2.973753\n",
            "Saving model____\n",
            "Epoch: 40 \tTraining Loss: 2.643217 \tValidation Loss: 3.000331\n",
            "Epoch: 41 \tTraining Loss: 2.622331 \tValidation Loss: 3.073998\n",
            "Epoch: 42 \tTraining Loss: 2.582134 \tValidation Loss: 3.047964\n",
            "Epoch: 43 \tTraining Loss: 2.514129 \tValidation Loss: 3.117101\n",
            "Epoch: 44 \tTraining Loss: 2.517224 \tValidation Loss: 3.203803\n",
            "Epoch: 45 \tTraining Loss: 2.481272 \tValidation Loss: 3.155021\n",
            "Epoch: 46 \tTraining Loss: 2.464225 \tValidation Loss: 3.019809\n",
            "Epoch: 47 \tTraining Loss: 2.435328 \tValidation Loss: 3.074324\n",
            "Epoch: 48 \tTraining Loss: 2.402800 \tValidation Loss: 3.069638\n",
            "Epoch: 49 \tTraining Loss: 2.411957 \tValidation Loss: 3.098940\n",
            "Epoch: 50 \tTraining Loss: 2.386915 \tValidation Loss: 3.132374\n",
            "Epoch: 51 \tTraining Loss: 2.393660 \tValidation Loss: 3.124567\n",
            "Epoch: 52 \tTraining Loss: 2.312956 \tValidation Loss: 3.011534\n",
            "Epoch: 53 \tTraining Loss: 2.295309 \tValidation Loss: 3.124602\n",
            "Epoch: 54 \tTraining Loss: 2.312715 \tValidation Loss: 3.020707\n",
            "Epoch: 55 \tTraining Loss: 2.249714 \tValidation Loss: 3.065884\n",
            "Epoch: 56 \tTraining Loss: 2.248488 \tValidation Loss: 3.252571\n",
            "Epoch: 57 \tTraining Loss: 2.207018 \tValidation Loss: 3.210767\n",
            "Epoch: 58 \tTraining Loss: 2.243944 \tValidation Loss: 3.297674\n",
            "Epoch: 59 \tTraining Loss: 2.171626 \tValidation Loss: 3.162159\n",
            "Epoch: 60 \tTraining Loss: 2.175149 \tValidation Loss: 3.107818\n",
            "Epoch: 61 \tTraining Loss: 2.151291 \tValidation Loss: 3.177773\n",
            "Epoch: 62 \tTraining Loss: 2.162088 \tValidation Loss: 3.109478\n",
            "Epoch: 63 \tTraining Loss: 2.119868 \tValidation Loss: 3.220478\n",
            "Epoch: 64 \tTraining Loss: 2.110070 \tValidation Loss: 3.306170\n",
            "Epoch: 65 \tTraining Loss: 2.121721 \tValidation Loss: 3.324443\n",
            "Epoch: 66 \tTraining Loss: 2.089047 \tValidation Loss: 3.190246\n",
            "Epoch: 67 \tTraining Loss: 2.069431 \tValidation Loss: 3.260370\n",
            "Epoch: 68 \tTraining Loss: 2.027427 \tValidation Loss: 3.522045\n",
            "Epoch: 69 \tTraining Loss: 2.024468 \tValidation Loss: 3.367275\n",
            "Epoch: 70 \tTraining Loss: 1.981276 \tValidation Loss: 3.249827\n",
            "Epoch: 71 \tTraining Loss: 1.980882 \tValidation Loss: 3.318936\n",
            "Epoch: 72 \tTraining Loss: 1.999459 \tValidation Loss: 3.356259\n",
            "Epoch: 73 \tTraining Loss: 1.946845 \tValidation Loss: 3.301186\n",
            "Epoch: 74 \tTraining Loss: 1.933760 \tValidation Loss: 3.380101\n",
            "Epoch: 75 \tTraining Loss: 1.924205 \tValidation Loss: 3.303538\n",
            "Epoch: 76 \tTraining Loss: 1.924659 \tValidation Loss: 3.368171\n",
            "Epoch: 77 \tTraining Loss: 1.941343 \tValidation Loss: 3.141558\n",
            "Epoch: 78 \tTraining Loss: 1.931586 \tValidation Loss: 3.359888\n",
            "Epoch: 79 \tTraining Loss: 1.881755 \tValidation Loss: 3.456788\n",
            "Epoch: 80 \tTraining Loss: 1.856382 \tValidation Loss: 3.436103\n",
            "Epoch: 81 \tTraining Loss: 1.911801 \tValidation Loss: 3.426713\n",
            "Epoch: 82 \tTraining Loss: 1.882589 \tValidation Loss: 3.592894\n",
            "Epoch: 83 \tTraining Loss: 1.861487 \tValidation Loss: 3.385114\n",
            "Epoch: 84 \tTraining Loss: 1.824313 \tValidation Loss: 3.604258\n",
            "Epoch: 85 \tTraining Loss: 1.832230 \tValidation Loss: 3.394111\n"
          ],
          "name": "stdout"
        },
        {
          "output_type": "execute_result",
          "data": {
            "text/plain": [
              "IncompatibleKeys(missing_keys=[], unexpected_keys=[])"
            ]
          },
          "metadata": {
            "tags": []
          },
          "execution_count": 21
        }
      ]
    },
    {
      "cell_type": "markdown",
      "metadata": {
        "id": "4EGnqxryij7H",
        "colab_type": "text"
      },
      "source": [
        "### (IMPLEMENTATION) Test the Model\n",
        "\n",
        "Try out your model on the test dataset of dog images.  Use the code cell below to calculate and print the test loss and accuracy.  Ensure that your test accuracy is greater than 10%."
      ]
    },
    {
      "cell_type": "code",
      "metadata": {
        "id": "7FRxL_Iqij7L",
        "colab_type": "code",
        "outputId": "c352c2dd-dbc1-47bc-fa29-b9d77dd10c1c",
        "colab": {
          "base_uri": "https://localhost:8080/",
          "height": 86
        }
      },
      "source": [
        "def test(loaders, model, criterion, use_cuda):\n",
        "\n",
        "    # monitor test loss and accuracy\n",
        "    test_loss = 0.\n",
        "    correct = 0.\n",
        "    total = 0.\n",
        "\n",
        "    model.eval()\n",
        "    for batch_idx, (data, target) in enumerate(loaders['test']):\n",
        "        # move to GPU\n",
        "        if use_cuda:\n",
        "            data, target = data.cuda(), target.cuda()\n",
        "        # forward pass: compute predicted outputs by passing inputs to the model\n",
        "        output = model(data)\n",
        "        # calculate the loss\n",
        "        loss = criterion(output, target)\n",
        "        # update average test loss \n",
        "        test_loss = test_loss + ((1 / (batch_idx + 1)) * (loss.data - test_loss))\n",
        "        # convert output probabilities to predicted class\n",
        "        pred = output.data.max(1, keepdim=True)[1]\n",
        "        # compare predictions to true label\n",
        "        correct += np.sum(np.squeeze(pred.eq(target.data.view_as(pred))).cpu().numpy())\n",
        "        total += data.size(0)\n",
        "            \n",
        "    print('Test Loss: {:.6f}\\n'.format(test_loss))\n",
        "\n",
        "    print('\\nTest Accuracy: %2d%% (%2d/%2d)' % (\n",
        "        100. * correct / total, correct, total))\n",
        "\n",
        "# call test function    \n",
        "test(loaders_scratch, model_scratch, criterion_scratch, use_cuda)"
      ],
      "execution_count": 22,
      "outputs": [
        {
          "output_type": "stream",
          "text": [
            "Test Loss: 2.974345\n",
            "\n",
            "\n",
            "Test Accuracy: 26% (219/836)\n"
          ],
          "name": "stdout"
        }
      ]
    },
    {
      "cell_type": "markdown",
      "metadata": {
        "id": "yb-4HRL9ij7X",
        "colab_type": "text"
      },
      "source": [
        "---\n",
        "<a id='step4'></a>\n",
        "## Step 4: Create a CNN to Classify Dog Breeds (using Transfer Learning)\n",
        "\n",
        "You will now use transfer learning to create a CNN that can identify dog breed from images.  Your CNN must attain at least 60% accuracy on the test set.\n",
        "\n",
        "### (IMPLEMENTATION) Specify Data Loaders for the Dog Dataset\n",
        "\n",
        "Use the code cell below to write three separate [data loaders](http://pytorch.org/docs/master/data.html#torch.utils.data.DataLoader) for the training, validation, and test datasets of dog images (located at `dogImages/train`, `dogImages/valid`, and `dogImages/test`, respectively). \n",
        "\n",
        "If you like, **you are welcome to use the same data loaders from the previous step**, when you created a CNN from scratch."
      ]
    },
    {
      "cell_type": "code",
      "metadata": {
        "id": "pZVSXOIXij7c",
        "colab_type": "code",
        "colab": {}
      },
      "source": [
        "## TODO: Specify data loaders\n",
        "\n",
        "ImageFile.LOAD_TRUNCATED_IMAGES = True\n",
        "use_cuda = torch.cuda.is_available()\n",
        "\n",
        "image_transforms = {'train' : transforms.Compose([transforms.RandomRotation(10),\n",
        "                                                 transforms.RandomHorizontalFlip(),\n",
        "                                                 transforms.RandomResizedCrop(224),\n",
        "                                                 transforms.Resize(224),\n",
        "                                                 transforms.CenterCrop(224),\n",
        "                                                 transforms.ToTensor(),\n",
        "                                                 transforms.Normalize(mean = [0.485,0.456,0.406],\n",
        "                                                                     std = [0.229,0.224,0.225])]),\n",
        "                   'valid': transforms.Compose([transforms.Resize(224),\n",
        "                                               transforms.CenterCrop(224),\n",
        "                                               transforms.ToTensor(),\n",
        "                                               transforms.Normalize(mean = [0.485,0.456,0.406],\n",
        "                                                                   std = [0.229,0.224,0.225])]),\n",
        "                    \n",
        "                    \n",
        "                    \n",
        "                   'test' : transforms.Compose([transforms.Resize(224),\n",
        "                                               transforms.CenterCrop(224),\n",
        "                                               transforms.ToTensor(),\n",
        "                                               transforms.Normalize(mean = [0.485,0.456,0.406],\n",
        "                                                                   std = [0.229,0.224,0.225])])\n",
        "                   }\n",
        "\n",
        "\n",
        "loaders_scratch = { 'train': torch.utils.data.DataLoader(datasets.ImageFolder('dogImages/train',\n",
        "                                                                             transform = image_transforms['train']),\n",
        "                                                        batch_size=25, shuffle=True),\n",
        "                   'valid': torch.utils.data.DataLoader(datasets.ImageFolder('dogImages/valid',\n",
        "                                                                            transform = image_transforms['valid']),\n",
        "                                                       batch_size=25, shuffle=True),\n",
        "                   'test': torch.utils.data.DataLoader(datasets.ImageFolder('dogImages/test',\n",
        "                                                                           transform=image_transforms['test']),\n",
        "                                                      batch_size= 25, shuffle=True)\n",
        "    \n",
        "    \n",
        "    \n",
        "}\n",
        "\n"
      ],
      "execution_count": 0,
      "outputs": []
    },
    {
      "cell_type": "markdown",
      "metadata": {
        "id": "YDIbv9Mhij7i",
        "colab_type": "text"
      },
      "source": [
        "### (IMPLEMENTATION) Model Architecture\n",
        "\n",
        "Use transfer learning to create a CNN to classify dog breed.  Use the code cell below, and save your initialized model as the variable `model_transfer`."
      ]
    },
    {
      "cell_type": "code",
      "metadata": {
        "id": "3QezH5Qvij7k",
        "colab_type": "code",
        "outputId": "7124717a-ef98-4299-d04c-eb23f280a5dd",
        "colab": {
          "base_uri": "https://localhost:8080/",
          "height": 52
        }
      },
      "source": [
        "import torchvision.models as models\n",
        "import torch.nn as nn\n",
        "\n",
        "## TODO: Specify model architecture \n",
        "import torch.nn.functional as F\n",
        "\n",
        "model_transfer = models.resnet18(pretrained=True)\n",
        "\n",
        "for param in model_transfer.parameters():\n",
        "    param.requires_grad = False\n",
        "    \n",
        "num_ftrs = model_transfer.fc.in_features\n",
        "\n",
        "class TransferLearning(nn.Module):\n",
        "    def __init__(self):\n",
        "        super(TransferLearning, self).__init__()\n",
        "        self.fc1 = nn.Linear(in_features=num_ftrs, out_features=256)\n",
        "        self.fc2 = nn.Linear(in_features=256, out_features=133)\n",
        "        \n",
        "    def forward(self, x):\n",
        "        x = F.relu(self.fc1(x))\n",
        "        x = self.fc2(x)\n",
        "        return x\n",
        "\n",
        "\n",
        "model_transfer.fc = TransferLearning()\n",
        "\n",
        "if use_cuda:\n",
        "    model_transfer = model_transfer.cuda()"
      ],
      "execution_count": 25,
      "outputs": [
        {
          "output_type": "stream",
          "text": [
            "Downloading: \"https://download.pytorch.org/models/resnet18-5c106cde.pth\" to /root/.cache/torch/checkpoints/resnet18-5c106cde.pth\n",
            "100%|██████████| 46827520/46827520 [00:00<00:00, 75628694.65it/s]\n"
          ],
          "name": "stderr"
        }
      ]
    },
    {
      "cell_type": "markdown",
      "metadata": {
        "id": "zYI4MFGbij71",
        "colab_type": "text"
      },
      "source": [
        "__Question 5:__ Outline the steps you took to get to your final CNN architecture and your reasoning at each step.  Describe why you think the architecture is suitable for the current problem."
      ]
    },
    {
      "cell_type": "markdown",
      "metadata": {
        "id": "HUXi6ru8ij73",
        "colab_type": "text"
      },
      "source": [
        "__Answer:__  This time I tried shallow network for it's classifier. It turned out that with transfer learning, the classifier can has as few as two linear layers to achieve good results. \n"
      ]
    },
    {
      "cell_type": "markdown",
      "metadata": {
        "id": "2Tc_Bu1fij75",
        "colab_type": "text"
      },
      "source": [
        "### (IMPLEMENTATION) Specify Loss Function and Optimizer\n",
        "\n",
        "Use the next code cell to specify a [loss function](http://pytorch.org/docs/master/nn.html#loss-functions) and [optimizer](http://pytorch.org/docs/master/optim.html).  Save the chosen loss function as `criterion_transfer`, and the optimizer as `optimizer_transfer` below."
      ]
    },
    {
      "cell_type": "code",
      "metadata": {
        "id": "vEP4ozgKij78",
        "colab_type": "code",
        "colab": {}
      },
      "source": [
        "criterion_transfer = nn.CrossEntropyLoss()\n",
        "optimizer_transfer = optim.Adam(model_scratch.parameters(), lr = 0.0005)"
      ],
      "execution_count": 0,
      "outputs": []
    },
    {
      "cell_type": "markdown",
      "metadata": {
        "id": "t7TLheciij8C",
        "colab_type": "text"
      },
      "source": [
        "### (IMPLEMENTATION) Train and Validate the Model\n",
        "\n",
        "Train and validate your model in the code cell below.  [Save the final model parameters](http://pytorch.org/docs/master/notes/serialization.html) at filepath `'model_transfer.pt'`."
      ]
    },
    {
      "cell_type": "code",
      "metadata": {
        "id": "PyMBApycij8E",
        "colab_type": "code",
        "colab": {
          "base_uri": "https://localhost:8080/",
          "height": 121
        },
        "outputId": "4a7eb934-a174-4143-f060-f3563389b78d"
      },
      "source": [
        "# train the model\n",
        "model_transfer =  train(50, loaders_scratch, model_transfer, optimizer_transfer, criterion_transfer, use_cuda, 'model_transfer.pt')\n",
        "\n",
        "# load the model that got the best validation accuracy (uncomment the line below)\n",
        "model_transfer.load_state_dict(torch.load('model_transfer.pt'))"
      ],
      "execution_count": 0,
      "outputs": [
        {
          "output_type": "stream",
          "text": [
            "Epoch: 1 \tTraining Loss: 4.944477 \tValidation Loss: 4.953177\n",
            "Saving model____\n",
            "Epoch: 2 \tTraining Loss: 4.950109 \tValidation Loss: 4.958013\n",
            "Epoch: 3 \tTraining Loss: 4.943499 \tValidation Loss: 4.955117\n",
            "Epoch: 4 \tTraining Loss: 4.943383 \tValidation Loss: 4.951403\n",
            "Saving model____\n"
          ],
          "name": "stdout"
        }
      ]
    },
    {
      "cell_type": "markdown",
      "metadata": {
        "id": "7CFMVavTij8M",
        "colab_type": "text"
      },
      "source": [
        "### (IMPLEMENTATION) Test the Model\n",
        "\n",
        "Try out your model on the test dataset of dog images. Use the code cell below to calculate and print the test loss and accuracy.  Ensure that your test accuracy is greater than 60%."
      ]
    },
    {
      "cell_type": "code",
      "metadata": {
        "id": "5QwquxEVij8P",
        "colab_type": "code",
        "colab": {
          "base_uri": "https://localhost:8080/",
          "height": 86
        },
        "outputId": "68ebb2ba-9a08-41a9-8f9d-38e3bf4dcdfb"
      },
      "source": [
        "test(loaders_scratch, model_transfer, criterion_transfer, use_cuda)"
      ],
      "execution_count": 32,
      "outputs": [
        {
          "output_type": "stream",
          "text": [
            "Test Loss: 4.946283\n",
            "\n",
            "\n",
            "Test Accuracy:  0% ( 7/836)\n"
          ],
          "name": "stdout"
        }
      ]
    },
    {
      "cell_type": "markdown",
      "metadata": {
        "id": "XjA_O3Udij8b",
        "colab_type": "text"
      },
      "source": [
        "### (IMPLEMENTATION) Predict Dog Breed with the Model\n",
        "\n",
        "Write a function that takes an image path as input and returns the dog breed (`Affenpinscher`, `Afghan hound`, etc) that is predicted by your model.  "
      ]
    },
    {
      "cell_type": "code",
      "metadata": {
        "id": "AZWNaRCKij8d",
        "colab_type": "code",
        "colab": {}
      },
      "source": [
        "### TODO: Write a function that takes a path to an image as input\n",
        "### and returns the dog breed that is predicted by the model.\n",
        "from torch.nn.functional import softmax\n",
        "# list of class names by index, i.e. a name can be accessed like class_names[0]\n",
        "class_names = [item[4:].replace(\"_\", \" \") for item in data_transfer['train'].classes]\n",
        "\n",
        "def predict_breed_transfer(img_path):\n",
        "    # load the image and return the predicted breed\n",
        "    pil_image = Image.open(img_path)\n",
        "    transformed_image = transforms.Resize(224)(pil_image)\n",
        "    #czy tu ponizej nie ma bledu i w parametrze wrzucic cos innego. ok, wrzucam transformed image ponizej \n",
        "    transformed_image = transforms.CenterCrop(224)(transformed_image)\n",
        "    transformed_image = transforms.ToTensor()(transformed_image)\n",
        "    transformed_image = transforms.Normalize(mean = [0.485,0.456,0.406],\n",
        "                                            std = [0.229,0.224,0.225])(transformed_image)\n",
        "\n",
        "    \n",
        "    \n",
        "    transformed_image = transformed_image.cuda() if torch.cuda.is_available() else transformed_image\n",
        "    output_raw = model_transfer(transformed_image.unsqueeze(0))\n",
        "    output_softmax = softmax(output_raw, dim=1)\n",
        "    output = int(output_raw.argmax())\n",
        "    \n",
        "    \n",
        "    \n",
        "    \n",
        "    return class_names[output], float(output_softmax[0][output])"
      ],
      "execution_count": 0,
      "outputs": []
    },
    {
      "cell_type": "markdown",
      "metadata": {
        "id": "lccFwIbhij8m",
        "colab_type": "text"
      },
      "source": [
        "---\n",
        "<a id='step5'></a>\n",
        "## Step 5: Write your Algorithm\n",
        "\n",
        "Write an algorithm that accepts a file path to an image and first determines whether the image contains a human, dog, or neither.  Then,\n",
        "- if a __dog__ is detected in the image, return the predicted breed.\n",
        "- if a __human__ is detected in the image, return the resembling dog breed.\n",
        "- if __neither__ is detected in the image, provide output that indicates an error.\n",
        "\n",
        "You are welcome to write your own functions for detecting humans and dogs in images, but feel free to use the `face_detector` and `dog_detector` functions developed above.  You are __required__ to use your CNN from Step 4 to predict dog breed.  \n",
        "\n",
        "Some sample output for our algorithm is provided below, but feel free to design your own user experience!\n",
        "\n",
        "![Sample Human Output](images/sample_human_output.png)\n",
        "\n",
        "\n",
        "### (IMPLEMENTATION) Write your Algorithm"
      ]
    },
    {
      "cell_type": "code",
      "metadata": {
        "id": "fz-IPZbAij8o",
        "colab_type": "code",
        "colab": {}
      },
      "source": [
        "### TODO: Write your algorithm.\n",
        "### Feel free to use as many code cells as needed.\n",
        "\n",
        "import matplotlib.pyplot as plt\n",
        "from IPython import display\n",
        "\n",
        "\n",
        "def run_app(img_path):\n",
        "    ## handle cases for a human face, dog, and neither\n",
        "    face = face_detector(img_path)\n",
        "    breed, confidence = predict_breed_transfer(img_path)\n",
        "    if confidence < 0.3:\n",
        "        raise Exception(\"I don't see any dog nor human in this photo\")\n",
        "    elif face:\n",
        "        plt.imshow(image_plt)\n",
        "        plt.title('this human looks like {}'.format(breed))\n",
        "    else:\n",
        "        plt.imshow(image_plt)\n",
        "        plt.title('This good boy doggo looks like {}'.format(breed))\n",
        "        \n",
        "        \n",
        "    return breed\n",
        "    \n"
      ],
      "execution_count": 0,
      "outputs": []
    },
    {
      "cell_type": "markdown",
      "metadata": {
        "id": "0iUMK2RAij8u",
        "colab_type": "text"
      },
      "source": [
        "---\n",
        "<a id='step6'></a>\n",
        "## Step 6: Test Your Algorithm\n",
        "\n",
        "In this section, you will take your new algorithm for a spin!  What kind of dog does the algorithm think that _you_ look like?  If you have a dog, does it predict your dog's breed accurately?  If you have a cat, does it mistakenly think that your cat is a dog?\n",
        "\n",
        "### (IMPLEMENTATION) Test Your Algorithm on Sample Images!\n",
        "\n",
        "Test your algorithm at least six images on your computer.  Feel free to use any images you like.  Use at least two human and two dog images.  \n",
        "\n",
        "__Question 6:__ Is the output better than you expected :) ?  Or worse :( ?  Provide at least three possible points of improvement for your algorithm."
      ]
    },
    {
      "cell_type": "markdown",
      "metadata": {
        "id": "9S8ObFTbij8w",
        "colab_type": "text"
      },
      "source": [
        "__Answer:__ (Three possible points for improvement)\n",
        "\n",
        "My answer:\n",
        "\n",
        "1) Code refactorization - making it more Object-Oriented, using classes.\n",
        "2) Using other python libraries to speed up the code, like Numba or JobLib.\n",
        "3) I could add more layers to the models.\n",
        "4) I could replace cv2 with pytorch."
      ]
    },
    {
      "cell_type": "code",
      "metadata": {
        "id": "L3duRLRcij8y",
        "colab_type": "code",
        "colab": {}
      },
      "source": [
        "## TODO: Execute your algorithm from Step 6 on\n",
        "## at least 6 images on your computer.\n",
        "## Feel free to use as many code cells as needed.\n",
        "\n",
        "## suggested code, below\n",
        "for file in np.hstack((human_files[:3], dog_files[:3])):\n",
        "    run_app(file)"
      ],
      "execution_count": 0,
      "outputs": []
    },
    {
      "cell_type": "code",
      "metadata": {
        "id": "EXVo0lehgxbR",
        "colab_type": "code",
        "colab": {}
      },
      "source": [
        "run_app('drive/My Drive/more_doggos/dog1.jpg')"
      ],
      "execution_count": 0,
      "outputs": []
    },
    {
      "cell_type": "code",
      "metadata": {
        "id": "pu54Ny1sgy9W",
        "colab_type": "code",
        "colab": {}
      },
      "source": [
        "run_app('drive/My Drive/more_doggos/dog2.jpeg')"
      ],
      "execution_count": 0,
      "outputs": []
    },
    {
      "cell_type": "code",
      "metadata": {
        "id": "WolrMvzQgz6s",
        "colab_type": "code",
        "colab": {}
      },
      "source": [
        "run_app('drive/My Drive/more_doggos/dog3.jpeg')"
      ],
      "execution_count": 0,
      "outputs": []
    },
    {
      "cell_type": "code",
      "metadata": {
        "id": "gl24yoyNg0cs",
        "colab_type": "code",
        "colab": {}
      },
      "source": [
        "run_app('drive/My Drive/more_doggos/dog4.jpg')"
      ],
      "execution_count": 0,
      "outputs": []
    },
    {
      "cell_type": "code",
      "metadata": {
        "id": "9QO1bR2Sg09A",
        "colab_type": "code",
        "colab": {}
      },
      "source": [
        "run_app('drive/My Drive/more_doggos/snoop2.jpeg')"
      ],
      "execution_count": 0,
      "outputs": []
    },
    {
      "cell_type": "code",
      "metadata": {
        "id": "yR9oadNvg1eG",
        "colab_type": "code",
        "colab": {}
      },
      "source": [
        "run_app('drive/My Drive/more_doggos/almost_dog.jpeg')"
      ],
      "execution_count": 0,
      "outputs": []
    },
    {
      "cell_type": "code",
      "metadata": {
        "id": "7jnHl23Pg2sc",
        "colab_type": "code",
        "colab": {}
      },
      "source": [
        ""
      ],
      "execution_count": 0,
      "outputs": []
    },
    {
      "cell_type": "code",
      "metadata": {
        "id": "5Kkz2IxLg3fT",
        "colab_type": "code",
        "colab": {}
      },
      "source": [
        ""
      ],
      "execution_count": 0,
      "outputs": []
    },
    {
      "cell_type": "code",
      "metadata": {
        "id": "DfyI7UUKj8_t",
        "colab_type": "code",
        "colab": {}
      },
      "source": [
        "%%bash\n",
        "wget https://s3-us-west-1.amazonaws.com/udacity-aind/dog-project/dogImages.zip"
      ],
      "execution_count": 0,
      "outputs": []
    },
    {
      "cell_type": "code",
      "metadata": {
        "id": "HdMjps_4k4ck",
        "colab_type": "code",
        "colab": {}
      },
      "source": [
        "%%bash\n",
        "wget https://s3-us-west-1.amazonaws.com/udacity-aind/dog-project/lfw.zip"
      ],
      "execution_count": 0,
      "outputs": []
    },
    {
      "cell_type": "code",
      "metadata": {
        "id": "hKDYF59Ilfim",
        "colab_type": "code",
        "colab": {}
      },
      "source": [
        "%%bash \n",
        "unzip -oq dogImages.zip"
      ],
      "execution_count": 0,
      "outputs": []
    },
    {
      "cell_type": "code",
      "metadata": {
        "id": "SbEMTtIHlyqL",
        "colab_type": "code",
        "colab": {}
      },
      "source": [
        "%%bash \n",
        "unzip -oq lfw.zip"
      ],
      "execution_count": 0,
      "outputs": []
    },
    {
      "cell_type": "code",
      "metadata": {
        "id": "zsUZWftHmCxN",
        "colab_type": "code",
        "colab": {}
      },
      "source": [
        "%%bash\n",
        "mkdir haarcascades\n",
        "mv haarcascade_frontalface_alt.xml haarcascades"
      ],
      "execution_count": 0,
      "outputs": []
    },
    {
      "cell_type": "code",
      "metadata": {
        "id": "Us7VWNr3v3zZ",
        "colab_type": "code",
        "colab": {
          "base_uri": "https://localhost:8080/",
          "height": 124
        },
        "outputId": "2429790d-72a2-4e72-f69f-b0f1d3c44533"
      },
      "source": [
        "# Run this cell to mount your Google Drive.\n",
        "from google.colab import drive\n",
        "drive.mount('/content/drive')"
      ],
      "execution_count": 6,
      "outputs": [
        {
          "output_type": "stream",
          "text": [
            "Go to this URL in a browser: https://accounts.google.com/o/oauth2/auth?client_id=947318989803-6bn6qk8qdgf4n4g3pfee6491hc0brc4i.apps.googleusercontent.com&redirect_uri=urn%3Aietf%3Awg%3Aoauth%3A2.0%3Aoob&scope=email%20https%3A%2F%2Fwww.googleapis.com%2Fauth%2Fdocs.test%20https%3A%2F%2Fwww.googleapis.com%2Fauth%2Fdrive%20https%3A%2F%2Fwww.googleapis.com%2Fauth%2Fdrive.photos.readonly%20https%3A%2F%2Fwww.googleapis.com%2Fauth%2Fpeopleapi.readonly&response_type=code\n",
            "\n",
            "Enter your authorization code:\n",
            "··········\n",
            "Mounted at /content/drive\n"
          ],
          "name": "stdout"
        }
      ]
    },
    {
      "cell_type": "code",
      "metadata": {
        "id": "CEbpxHIJpTlp",
        "colab_type": "code",
        "colab": {}
      },
      "source": [
        "%%bash\n",
        "cp model_scratch.pt \"drive/My Drive\""
      ],
      "execution_count": 0,
      "outputs": []
    },
    {
      "cell_type": "code",
      "metadata": {
        "id": "qfNrQyiqQqs9",
        "colab_type": "code",
        "colab": {}
      },
      "source": [
        "%%bash\n",
        "cp model_transfer.pt \"drive/My Drive\""
      ],
      "execution_count": 0,
      "outputs": []
    }
  ]
}